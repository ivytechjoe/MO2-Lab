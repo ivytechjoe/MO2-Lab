{
 "cells": [
  {
   "cell_type": "code",
   "execution_count": null,
   "id": "761ff3b4",
   "metadata": {},
   "outputs": [
    {
     "name": "stdout",
     "output_type": "stream",
     "text": [
      "Enter the student's last name (or 'ZZZ' to quit): Jacobs\n",
      "Enter the student's first name: Joseph\n",
      "Enter the student's GPA: 3.4\n",
      "Joseph Jacobs has made the Honor Roll.\n",
      "Enter the student's last name (or 'ZZZ' to quit): Bult\n",
      "Enter the student's first name: Abby\n",
      "Enter the student's GPA: 3.2\n",
      "Abby Bult does not qualify for any honors.\n",
      "Enter the student's last name (or 'ZZZ' to quit): Prin\n",
      "Enter the student's first name: Zeke\n",
      "Enter the student's GPA: 2.23\n",
      "Zeke Prin does not qualify for any honors.\n",
      "Enter the student's last name (or 'ZZZ' to quit): Molt\n",
      "Enter the student's first name: Hank\n",
      "Enter the student's GPA: 3.44\n",
      "Hank Molt has made the Honor Roll.\n",
      "Enter the student's last name (or 'ZZZ' to quit): James\n",
      "Enter the student's first name: Luke\n",
      "Enter the student's GPA: 1.1\n",
      "Luke James does not qualify for any honors.\n",
      "Enter the student's last name (or 'ZZZ' to quit): Mank\n",
      "Enter the student's first name: Tim\n",
      "Enter the student's GPA: 3.26\n",
      "Tim Mank has made the Honor Roll.\n",
      "Enter the student's last name (or 'ZZZ' to quit): Lanting\n",
      "Enter the student's first name: Jesse\n",
      "Enter the student's GPA: 4\n",
      "Jesse Lanting has made the Dean's List.\n"
     ]
    }
   ],
   "source": [
    "#Joseph Jacobs\n",
    "#MO2 Lab\n",
    "#This program takes user input to see if they made the honor roll.\n",
    "\n",
    "# Define a function to check if a student qualifies for the Dean's List\n",
    "def is_deans_list(gpa):\n",
    "    return gpa >= 3.5\n",
    "\n",
    "# Define a function to check if a student qualifies for the Honor Roll\n",
    "def is_honor_roll(gpa):\n",
    "    return gpa >= 3.25\n",
    "\n",
    "# Main loop to process student records\n",
    "while True:\n",
    "    # Ask for the student's last name\n",
    "    last_name = input(\"Enter the student's last name (or 'ZZZ' to quit): \")\n",
    "    \n",
    "    # Check if the user wants to quit\n",
    "    if last_name == 'ZZZ':\n",
    "        break\n",
    "    \n",
    "    # Ask for the student's first name\n",
    "    first_name = input(\"Enter the student's first name: \")\n",
    "    \n",
    "    # Ask for the student's GPA as a float\n",
    "    gpa = float(input(\"Enter the student's GPA: \"))\n",
    "    \n",
    "    # Check if the student qualifies for the Dean's List\n",
    "    if is_deans_list(gpa):\n",
    "        print(f\"{first_name} {last_name} has made the Dean's List.\")\n",
    "    # Check if the student qualifies for the Honor Roll\n",
    "    elif is_honor_roll(gpa):\n",
    "        print(f\"{first_name} {last_name} has made the Honor Roll.\")\n",
    "    # If neither condition is met, the student does not qualify for any honors\n",
    "    else:\n",
    "        print(f\"{first_name} {last_name} does not qualify for any honors.\")\n",
    "        "
   ]
  },
  {
   "cell_type": "code",
   "execution_count": null,
   "id": "ef88882e",
   "metadata": {},
   "outputs": [],
   "source": []
  }
 ],
 "metadata": {
  "kernelspec": {
   "display_name": "Python 3 (ipykernel)",
   "language": "python",
   "name": "python3"
  },
  "language_info": {
   "codemirror_mode": {
    "name": "ipython",
    "version": 3
   },
   "file_extension": ".py",
   "mimetype": "text/x-python",
   "name": "python",
   "nbconvert_exporter": "python",
   "pygments_lexer": "ipython3",
   "version": "3.11.5"
  }
 },
 "nbformat": 4,
 "nbformat_minor": 5
}
